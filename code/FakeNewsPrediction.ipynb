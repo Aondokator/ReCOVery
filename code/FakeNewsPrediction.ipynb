{
 "cells": [
  {
   "cell_type": "markdown",
   "source": [
    "# Predicting News Reliablity Using News Content"
   ],
   "metadata": {
    "collapsed": false
   }
  },
  {
   "cell_type": "code",
   "execution_count": 147,
   "outputs": [],
   "source": [
    "import pandas as pd\n",
    "import numpy as np\n",
    "import seaborn as sns\n",
    "import matplotlib.pyplot as plt\n",
    "from sklearn import preprocessing\n",
    "from sklearn.model_selection import train_test_split, cross_val_score\n",
    "from sklearn import svm, naive_bayes, tree, ensemble, neighbors, linear_model\n",
    "from sklearn.inspection import permutation_importance\n",
    "from xgboost import XGBClassifier\n",
    "from sklearn.feature_selection import SelectFromModel\n",
    "# from sklearn.metrics import confusion_matrix, accuracy_score, precision_score, recall_score, f1_score\n",
    "from sklearn.metrics import classification_report, confusion_matrix, plot_confusion_matrix, f1_score, precision_score, recall_score\n",
    "import itertools\n",
    "from IPython.display import display\n",
    "from sklearn.dummy import DummyClassifier\n",
    "\n",
    "SMALL_SIZE = 16\n",
    "MEDIUM_SIZE = 18\n",
    "BIGGER_SIZE = 20\n",
    "\n",
    "plt.rc('font', size=SMALL_SIZE)          # controls default text sizes\n",
    "plt.rc('axes', titlesize=SMALL_SIZE)     # fontsize of the axes title\n",
    "plt.rc('axes', labelsize=MEDIUM_SIZE)    # fontsize of the x and y labels\n",
    "plt.rc('xtick', labelsize=SMALL_SIZE)    # fontsize of the tick labels\n",
    "plt.rc('ytick', labelsize=SMALL_SIZE)    # fontsize of the tick labels\n",
    "plt.rc('legend', fontsize=MEDIUM_SIZE)    # legend fontsize\n",
    "plt.rc('figure', titlesize=BIGGER_SIZE) \n",
    "\n",
    "CSV_FILE_DIR_HEAD = \"/Volumes/MySSD/PycharmProjects/MIS-COV19/\"\n",
    "CONTENT_FEATURE_PATH = CSV_FILE_DIR_HEAD+\"feature/content-features.csv\"\n",
    "LABEL_PATH = CSV_FILE_DIR_HEAD+\"feature/labels.csv\"\n",
    "CLASSES = ['is_reliable', 'is_unreliable']\n",
    "RSEED = 46"
   ],
   "metadata": {
    "collapsed": false,
    "pycharm": {
     "name": "#%%\n",
     "is_executing": false
    }
   }
  },
  {
   "cell_type": "markdown",
   "source": [
    "Data Preprocessing"
   ],
   "metadata": {
    "collapsed": false
   }
  },
  {
   "cell_type": "code",
   "execution_count": 148,
   "outputs": [],
   "source": [
    "def date_prep(fea_path, lab_path):\n",
    "    # Load data\n",
    "    fea_data = pd.read_csv(fea_path)  \n",
    "    lab_data = pd.read_csv(lab_path) \n",
    "    \n",
    "    features = pd.DataFrame(fea_data)  \n",
    "    labels = pd.DataFrame(lab_data)\n",
    "    \n",
    "    # Feature standardization\n",
    "    fea_scale = preprocessing.scale(features)\n",
    "    \n",
    "    # Read feature names\n",
    "    fea_names = features.columns\n",
    "    \n",
    "    # Divide the overall dataset as training data and testing data (0.8:0.2)\n",
    "    x_train, x_test, y_train, y_test = train_test_split(fea_scale, labels, test_size=0.2, random_state=RSEED)\n",
    "\n",
    "    return fea_names, x_train, x_test, y_train, y_test"
   ],
   "metadata": {
    "collapsed": false,
    "pycharm": {
     "name": "#%%\n",
     "is_executing": false
    }
   }
  },
  {
   "cell_type": "markdown",
   "source": [
    "Logistic Regression\n",
    "    "
   ],
   "metadata": {
    "collapsed": false
   }
  },
  {
   "cell_type": "code",
   "execution_count": 149,
   "outputs": [
    {
     "name": "stdout",
     "text": [
      "=== Logistic Regression ===\n               precision    recall  f1-score   support\n\n  is_reliable       0.73      0.89      0.81       271\nis_unreliable       0.62      0.35      0.45       136\n\n     accuracy                           0.71       407\n    macro avg       0.68      0.62      0.63       407\n weighted avg       0.70      0.71      0.69       407\n\n"
     ],
     "output_type": "stream"
    },
    {
     "name": "stderr",
     "text": [
      "/Library/Frameworks/Python.framework/Versions/3.8/lib/python3.8/site-packages/sklearn/utils/validation.py:760: DataConversionWarning: A column-vector y was passed when a 1d array was expected. Please change the shape of y to (n_samples, ), for example using ravel().\n  y = column_or_1d(y, warn=True)\n"
     ],
     "output_type": "stream"
    }
   ],
   "source": [
    "fea_names, x_train, x_test, y_train, y_test = date_prep(CONTENT_FEATURE_PATH, LABEL_PATH)\n",
    "\n",
    "model = linear_model.LogisticRegression(random_state=RSEED)\n",
    "model.fit(x_train, y_train)\n",
    "\n",
    "# perm = PermutationImportance(model, random_state=RSEED).fit(x_train, y_train)\n",
    "# display(eli5.show_weights(perm, feature_names = fea_names.tolist()))\n",
    "\n",
    "y_pred = model.predict(x_test)\n",
    "\n",
    "# cm_lg = confusion_matrix(y_test, y_pred)\n",
    "\n",
    "print('=== Logistic Regression ===')\n",
    "print(classification_report(y_test, y_pred, target_names=CLASSES))\n",
    "# print(cm_lg)\n",
    "# plot_cm(cm_lg, classes,\n",
    "#         path = 'confusion matrix/cm_lg.eps',\n",
    "#         normalize=True,\n",
    "#         cmap=plt.cm.Blues)\n",
    "\n"
   ],
   "metadata": {
    "collapsed": false,
    "pycharm": {
     "name": "#%%\n",
     "is_executing": false
    }
   }
  },
  {
   "cell_type": "markdown",
   "source": [
    "Naive Bayes\n",
    "    "
   ],
   "metadata": {
    "collapsed": false
   }
  },
  {
   "cell_type": "code",
   "execution_count": 150,
   "outputs": [
    {
     "name": "stdout",
     "text": [
      "=== Naive Bayes ===\n               precision    recall  f1-score   support\n\n  is_reliable       0.74      0.92      0.82       271\nis_unreliable       0.69      0.38      0.49       136\n\n     accuracy                           0.73       407\n    macro avg       0.72      0.65      0.65       407\n weighted avg       0.73      0.73      0.71       407\n\n"
     ],
     "output_type": "stream"
    },
    {
     "name": "stderr",
     "text": [
      "/Library/Frameworks/Python.framework/Versions/3.8/lib/python3.8/site-packages/sklearn/utils/validation.py:760: DataConversionWarning: A column-vector y was passed when a 1d array was expected. Please change the shape of y to (n_samples, ), for example using ravel().\n  y = column_or_1d(y, warn=True)\n"
     ],
     "output_type": "stream"
    }
   ],
   "source": [
    "fea_names, x_train, x_test, y_train, y_test = date_prep(CONTENT_FEATURE_PATH, LABEL_PATH)\n",
    "\n",
    "'''\n",
    "Determining parameters:\n",
    "Cross validation based on grid search\n",
    "\n",
    "res = []\n",
    "for alpha in np.arange(0.1,1,0.1):\n",
    "    for binarize in np.arange(0,1,0.1):\n",
    "        model = naive_bayes.BernoulliNB(alpha=alpha, binarize=binarize)\n",
    "        cv_results = cross_val_score(model, x_train, y_train, scoring='f1', cv=10)\n",
    "        res.append([alpha, binarize, cv_results.mean()])\n",
    "bst_params = max(res, key=lambda re: re[-1])\n",
    "bst_alpha = bst_params[0]\n",
    "bst_binarize = bst_params[1]\n",
    "print('bst_params: [ %.1f, %.1f ]' %(bst_alpha,bst_binarize))\n",
    "\n",
    "# bst_alpha = 0.1\n",
    "# bst_binarize = 0\n",
    "model = naive_bayes.BernoulliNB(alpha=bst_alpha, binarize=bst_binarize)    \n",
    "'''\n",
    "\n",
    "model = naive_bayes.BernoulliNB() \n",
    "model.fit(x_train, y_train)\n",
    "\n",
    "y_pred = model.predict(x_test)\n",
    "\n",
    "print('=== Naive Bayes ===')\n",
    "print(classification_report(y_test, y_pred, target_names=CLASSES))"
   ],
   "metadata": {
    "collapsed": false,
    "pycharm": {
     "name": "#%%\n",
     "is_executing": false
    }
   }
  },
  {
   "cell_type": "markdown",
   "source": [
    "K-Nearest Neighbors\n",
    "    "
   ],
   "metadata": {
    "collapsed": false
   }
  },
  {
   "cell_type": "code",
   "execution_count": 151,
   "outputs": [
    {
     "name": "stdout",
     "text": [
      "=== KNN ===\n               precision    recall  f1-score   support\n\n  is_reliable       0.83      0.94      0.88       271\nis_unreliable       0.84      0.62      0.71       136\n\n     accuracy                           0.83       407\n    macro avg       0.84      0.78      0.80       407\n weighted avg       0.83      0.83      0.83       407\n\n"
     ],
     "output_type": "stream"
    },
    {
     "name": "stderr",
     "text": [
      "<ipython-input-151-6351427c1e8c>:21: DataConversionWarning: A column-vector y was passed when a 1d array was expected. Please change the shape of y to (n_samples, ), for example using ravel().\n  model.fit(x_train, y_train)\n"
     ],
     "output_type": "stream"
    }
   ],
   "source": [
    "fea_names, x_train, x_test, y_train, y_test = date_prep(CONTENT_FEATURE_PATH, LABEL_PATH)\n",
    "\n",
    "'''\n",
    "Determining parameters:\n",
    "Cross validation based on grid search\n",
    "\n",
    "res = []\n",
    "for n_neighbors in np.arange(1,10,1):\n",
    "    model = neighbors.KNeighborsClassifier(n_neighbors=n_neighbors)\n",
    "    cv_results = cross_val_score(model, x_train, y_train, scoring='f1', cv=10)\n",
    "    res.append([n_neighbors, cv_results.mean()])\n",
    "bst_params = max(res, key=lambda re: re[-1])\n",
    "bst_n_neighbors = bst_params[0]\n",
    "print('bst_params: [ %.1f ]' %(bst_n_neighbors))\n",
    "\n",
    "# bst_n_neighbors = 3\n",
    "model = neighbors.KNeighborsClassifier(n_neighbors=bst_n_neighbors)\n",
    "'''\n",
    "\n",
    "model = neighbors.KNeighborsClassifier()\n",
    "model.fit(x_train, y_train)\n",
    "\n",
    "y_pred = model.predict(x_test)\n",
    "\n",
    "print('=== KNN ===')\n",
    "print(classification_report(y_test, y_pred, target_names=CLASSES))\n"
   ],
   "metadata": {
    "collapsed": false,
    "pycharm": {
     "name": "#%%\n",
     "is_executing": false
    }
   }
  },
  {
   "cell_type": "markdown",
   "source": [
    "Random Forest"
   ],
   "metadata": {
    "collapsed": false
   }
  },
  {
   "cell_type": "code",
   "execution_count": 152,
   "outputs": [
    {
     "name": "stderr",
     "text": [
      "<ipython-input-152-993a56b679c5>:20: DataConversionWarning: A column-vector y was passed when a 1d array was expected. Please change the shape of y to (n_samples,), for example using ravel().\n  model.fit(x_train, y_train)\n"
     ],
     "output_type": "stream"
    },
    {
     "data": {
      "text/plain": "<Figure size 360x432 with 1 Axes>",
      "image/png": "[encoded data removed]"
     },
     "metadata": {
      "needs_background": "light"
     },
     "output_type": "display_data"
    },
    {
     "name": "stdout",
     "text": [
      "=== Random Forest ===\n               precision    recall  f1-score   support\n\n  is_reliable       0.87      0.92      0.89       271\nis_unreliable       0.82      0.72      0.77       136\n\n     accuracy                           0.85       407\n    macro avg       0.84      0.82      0.83       407\n weighted avg       0.85      0.85      0.85       407\n\n"
     ],
     "output_type": "stream"
    }
   ],
   "source": [
    "fea_names, x_train, x_test, y_train, y_test = date_prep(CONTENT_FEATURE_PATH, LABEL_PATH)\n",
    "\n",
    "'''\n",
    "Determining parameters:\n",
    "Cross validation based on grid search\n",
    "\n",
    "res = []\n",
    "for n_estimators in np.arange(100,500,100):\n",
    "    model = ensemble.RandomForestClassifier(n_estimators=n_estimators,random_state=RSEED)\n",
    "    cv_results = cross_val_score(model, x_train, y_train, scoring='f1', cv=10)\n",
    "    res.append([n_estimators, cv_results.mean()])\n",
    "bst_params = max(res, key=lambda re: re[-1])\n",
    "bst_n_estimators = bst_params[0]\n",
    "print('bst_params: [ %.1f ]' %(bst_n_estimators))\n",
    "\n",
    "# bst_n_estimators = 300\n",
    "model = ensemble.RandomForestClassifier(n_estimators=bst_n_estimators)\n",
    "'''\n",
    "model = ensemble.RandomForestClassifier()\n",
    "model.fit(x_train, y_train)\n",
    "\n",
    "importances = model.feature_importances_\n",
    "indices = np.argsort(importances)\n",
    "plt.figure(figsize=(5,6))\n",
    "plt.barh(range(len(indices)), importances[indices], color='steelblue', align='center')\n",
    "plt.yticks(range(len(indices)), [str(fea_names[i]) for i in indices])\n",
    "plt.xlabel('Relative Importance')\n",
    "# plt.savefig('figure/fea_imp_rf.eps',bbox_inches='tight')\n",
    "plt.show()\n",
    "\n",
    "y_pred = model.predict(x_test)\n",
    "\n",
    "print('=== Random Forest ===')\n",
    "print(classification_report(y_test, y_pred, target_names=CLASSES))\n"
   ],
   "metadata": {
    "collapsed": false,
    "pycharm": {
     "name": "#%%\n",
     "is_executing": false
    }
   }
  },
  {
   "cell_type": "markdown",
   "source": [
    "Decision Tree"
   ],
   "metadata": {
    "collapsed": false
   }
  },
  {
   "cell_type": "code",
   "execution_count": 153,
   "outputs": [
    {
     "name": "stdout",
     "text": [
      "=== Decision Tree ===\n               precision    recall  f1-score   support\n\n  is_reliable       0.85      0.83      0.84       271\nis_unreliable       0.68      0.71      0.70       136\n\n     accuracy                           0.79       407\n    macro avg       0.77      0.77      0.77       407\n weighted avg       0.79      0.79      0.79       407\n\n"
     ],
     "output_type": "stream"
    }
   ],
   "source": [
    "fea_names, x_train, x_test, y_train, y_test = date_prep(CONTENT_FEATURE_PATH, LABEL_PATH)\n",
    "\n",
    "model = tree.DecisionTreeClassifier()\n",
    "model.fit(x_train, y_train)\n",
    "\n",
    "y_pred = model.predict(x_test)\n",
    "\n",
    "print('=== Decision Tree ===')\n",
    "print(classification_report(y_test, y_pred, target_names=CLASSES))\n"
   ],
   "metadata": {
    "collapsed": false,
    "pycharm": {
     "name": "#%%\n",
     "is_executing": false
    }
   }
  },
  {
   "cell_type": "markdown",
   "source": [
    "SVM"
   ],
   "metadata": {
    "collapsed": false
   }
  },
  {
   "cell_type": "code",
   "execution_count": 154,
   "outputs": [
    {
     "name": "stderr",
     "text": [
      "/Library/Frameworks/Python.framework/Versions/3.8/lib/python3.8/site-packages/sklearn/utils/validation.py:760: DataConversionWarning: A column-vector y was passed when a 1d array was expected. Please change the shape of y to (n_samples, ), for example using ravel().\n  y = column_or_1d(y, warn=True)\n"
     ],
     "output_type": "stream"
    },
    {
     "data": {
      "text/plain": "<Figure size 360x432 with 1 Axes>",
      "image/png": "[encoded data removed]"
     },
     "metadata": {
      "needs_background": "light"
     },
     "output_type": "display_data"
    },
    {
     "name": "stdout",
     "text": [
      "=== SVM ===\n               precision    recall  f1-score   support\n\n  is_reliable       0.82      0.96      0.89       271\nis_unreliable       0.87      0.60      0.71       136\n\n     accuracy                           0.84       407\n    macro avg       0.85      0.78      0.80       407\n weighted avg       0.84      0.84      0.83       407\n\n"
     ],
     "output_type": "stream"
    }
   ],
   "source": [
    "fea_names, x_train, x_test, y_train, y_test = date_prep(CONTENT_FEATURE_PATH, LABEL_PATH)\n",
    "\n",
    "# kernel = 'rbf'\n",
    "# max_iter = 2000\n",
    "# model = svm.SVC(C=0.6, kernel=kernel, max_iter=max_iter, tol=0.01, random_state=RSEED)\n",
    "model = svm.SVC(random_state=RSEED)\n",
    "model.fit(x_train, y_train)\n",
    "\n",
    "importances = permutation_importance(model, x_train, y_train)['importances_mean']\n",
    "indices = np.argsort(importances)\n",
    "plt.figure(figsize=(5,6))\n",
    "plt.barh(range(len(indices)), importances[indices], color='steelblue', align='center')\n",
    "plt.yticks(range(len(indices)), [str(fea_names[i]) for i in indices])\n",
    "plt.xlabel('Relative Importance')\n",
    "# plt.savefig('feature importance/fea_imp_svm.eps',bbox_inches='tight')\n",
    "plt.show()\n",
    "\n",
    "y_pred = model.predict(x_test)\n",
    "\n",
    "print('=== SVM ===')\n",
    "print(classification_report(y_test, y_pred, target_names=CLASSES))"
   ],
   "metadata": {
    "collapsed": false,
    "pycharm": {
     "name": "#%%\n",
     "is_executing": false
    }
   }
  },
  {
   "cell_type": "markdown",
   "source": [
    "XGBoost"
   ],
   "metadata": {
    "collapsed": false
   }
  },
  {
   "cell_type": "code",
   "execution_count": 155,
   "outputs": [
    {
     "name": "stderr",
     "text": [
      "/Library/Frameworks/Python.framework/Versions/3.8/lib/python3.8/site-packages/sklearn/preprocessing/_label.py:235: DataConversionWarning: A column-vector y was passed when a 1d array was expected. Please change the shape of y to (n_samples, ), for example using ravel().\n  y = column_or_1d(y, warn=True)\n/Library/Frameworks/Python.framework/Versions/3.8/lib/python3.8/site-packages/sklearn/preprocessing/_label.py:268: DataConversionWarning: A column-vector y was passed when a 1d array was expected. Please change the shape of y to (n_samples, ), for example using ravel().\n  y = column_or_1d(y, warn=True)\n"
     ],
     "output_type": "stream"
    },
    {
     "data": {
      "text/plain": "<Figure size 360x432 with 1 Axes>",
      "image/png": "[encoded data removed]"
     },
     "metadata": {
      "needs_background": "light"
     },
     "output_type": "display_data"
    },
    {
     "name": "stdout",
     "text": [
      "=== XGBoost ===\n               precision    recall  f1-score   support\n\n  is_reliable       0.86      0.92      0.89       271\nis_unreliable       0.82      0.71      0.76       136\n\n     accuracy                           0.85       407\n    macro avg       0.84      0.82      0.83       407\n weighted avg       0.85      0.85      0.85       407\n\n"
     ],
     "output_type": "stream"
    }
   ],
   "source": [
    "fea_names, x_train, x_test, y_train, y_test = date_prep(CONTENT_FEATURE_PATH, LABEL_PATH)\n",
    "\n",
    "model = XGBClassifier(max_depth=5, subsample=0.6, reg_lambda=0.6, seed=RSEED)\n",
    "model.fit(x_train, y_train)\n",
    "\n",
    "importances = model.feature_importances_\n",
    "indices = np.argsort(importances)\n",
    "plt.figure(figsize=(5,6))\n",
    "plt.barh(range(len(indices)), importances[indices], color='steelblue', align='center')\n",
    "plt.yticks(range(len(indices)), [str(fea_names[i]) for i in indices])\n",
    "plt.xlabel('Relative Importance')\n",
    "# plt.savefig('figure/fea_imp_xgb.eps',bbox_inches='tight')\n",
    "plt.show()\n",
    "\n",
    "y_pred = model.predict(x_test)\n",
    "\n",
    "print('=== XGBoost ===')\n",
    "print(classification_report(y_test, y_pred, target_names=CLASSES))"
   ],
   "metadata": {
    "collapsed": false,
    "pycharm": {
     "name": "#%%\n",
     "is_executing": false
    }
   }
  },
  {
   "cell_type": "markdown",
   "source": [
    "Performance of Random Classifier"
   ],
   "metadata": {
    "collapsed": false
   }
  },
  {
   "cell_type": "code",
   "execution_count": 156,
   "outputs": [
    {
     "name": "stdout",
     "text": [
      "=== Random ===\n               precision    recall  f1-score   support\n\n  is_reliable       0.71      0.52      0.60       271\nis_unreliable       0.38      0.58      0.46       136\n\n     accuracy                           0.54       407\n    macro avg       0.55      0.55      0.53       407\n weighted avg       0.60      0.54      0.56       407\n\n"
     ],
     "output_type": "stream"
    }
   ],
   "source": [
    "fea_names, x_train, x_test, y_train, y_test = date_prep(CONTENT_FEATURE_PATH, LABEL_PATH)\n",
    "\n",
    "model = DummyClassifier(strategy=\"uniform\")\n",
    "model.fit(x_train, y_train)\n",
    "y_pred = model.predict(x_test)\n",
    "cm_rand = confusion_matrix(y_test, y_pred)\n",
    "\n",
    "print('=== Random ===')\n",
    "print(classification_report(y_test, y_pred, target_names=CLASSES))\n",
    "\n"
   ],
   "metadata": {
    "collapsed": false,
    "pycharm": {
     "name": "#%%\n",
     "is_executing": false
    }
   }
  }
 ],
 "metadata": {
  "kernelspec": {
   "display_name": "Python 3",
   "language": "python",
   "name": "python3"
  },
  "language_info": {
   "codemirror_mode": {
    "name": "ipython",
    "version": 2
   },
   "file_extension": ".py",
   "mimetype": "text/x-python",
   "name": "python",
   "nbconvert_exporter": "python",
   "pygments_lexer": "ipython2",
   "version": "2.7.6"
  },
  "pycharm": {
   "stem_cell": {
    "cell_type": "raw",
    "source": [],
    "metadata": {
     "collapsed": false
    }
   }
  }
 },
 "nbformat": 4,
 "nbformat_minor": 0
}