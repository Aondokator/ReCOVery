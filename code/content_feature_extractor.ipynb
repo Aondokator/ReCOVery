{
 "cells": [
  {
   "cell_type": "code",
   "execution_count": 11,
   "outputs": [],
   "source": [
    "import pandas as pd\n",
    "from pandas import DataFrame\n",
    "import numpy as np\n",
    "import networkx\n",
    "import itertools\n",
    "import time"
   ],
   "metadata": {
    "collapsed": false,
    "pycharm": {
     "name": "#%%\n",
     "is_executing": false
    }
   }
  },
  {
   "cell_type": "markdown",
   "source": [
    "Load Data"
   ],
   "metadata": {
    "collapsed": false
   }
  },
  {
   "cell_type": "code",
   "execution_count": 12,
   "outputs": [],
   "source": [
    "CSV_FILE_PATH = \"../dataset/recovery-news-data.csv\"\n",
    "df = pd.read_csv(CSV_FILE_PATH) "
   ],
   "metadata": {
    "collapsed": false,
    "pycharm": {
     "name": "#%%\n",
     "is_executing": false
    }
   }
  },
  {
   "cell_type": "markdown",
   "source": [
    "Timestamp of Publish Dates"
   ],
   "metadata": {
    "collapsed": false
   }
  },
  {
   "cell_type": "code",
   "execution_count": 13,
   "outputs": [
    {
     "name": "stdout",
     "text": [
      "['2020-01-21' '2020-01-22' '2020-01-23' '2020-01-24' '2020-01-24']\n[1.5795828e+09 1.5796692e+09 1.5797556e+09 1.5798420e+09 1.5798420e+09]\n"
     ],
     "output_type": "stream"
    }
   ],
   "source": [
    "dates = np.array(df['publish_date'].values, dtype=str)\n",
    "fea_time_stamps = np.zeros(dates.shape, dtype=float)\n",
    "\n",
    "for idx,date in enumerate(dates):\n",
    "    if date == 'nan':\n",
    "        fea_time_stamps[idx] = -1\n",
    "    else:\n",
    "        ts = time.strptime(date, \"%Y-%m-%d\")\n",
    "        fea_time_stamps[idx] = time.mktime(ts)\n",
    "\n",
    "print(dates[:5])\n",
    "print(fea_time_stamps[:5])"
   ],
   "metadata": {
    "collapsed": false,
    "pycharm": {
     "name": "#%%\n",
     "is_executing": false
    }
   }
  },
  {
   "cell_type": "markdown",
   "source": [
    "Number of Authors"
   ],
   "metadata": {
    "collapsed": false
   }
  },
  {
   "cell_type": "code",
   "execution_count": 14,
   "outputs": [
    {
     "name": "stdout",
     "text": [
      "[\"['Knvul Sheikh', 'Roni Caryn Rabin']\" \"['Emily Feng']\"\n \"['Nicole Wetsman']\" '[]'\n \"['Nicole Wetsman', 'Zoe Schiffer', 'Jay Peters', 'Sean OKane', 'Kim Lyons', 'Elizabeth Lopatto', 'Josh Dzieza', 'Nick Statt', 'James Vincent']\"]\n[2 1 1 0 9]\n"
     ],
     "output_type": "stream"
    }
   ],
   "source": [
    "authors = np.array(df['author'].values, dtype=str)\n",
    "fea_author_nums = np.zeros(authors.shape, dtype=int)\n",
    "for idx, author in enumerate(authors):\n",
    "    if author == \"[]\":\n",
    "        fea_author_nums[idx] = 0\n",
    "    else:\n",
    "        author_names = author[1:-1].split(',')\n",
    "        fea_author_nums[idx] = len(author_names)\n",
    "\n",
    "print(authors[:5])\n",
    "print(fea_author_nums[:5])"
   ],
   "metadata": {
    "collapsed": false,
    "pycharm": {
     "name": "#%%\n",
     "is_executing": false
    }
   }
  },
  {
   "cell_type": "markdown",
   "source": [
    "Mean / Median Number of Collaborators of Authors"
   ],
   "metadata": {
    "collapsed": false
   }
  },
  {
   "cell_type": "code",
   "execution_count": 15,
   "outputs": [
    {
     "name": "stdout",
     "text": [
      "1095 ['Knvul Sheikh', 'Roni Caryn Rabin', 'Emily Feng', 'Nicole Wetsman', 'Zoe Schiffer']\n1095 [3, 1, 1, 8, 8]\n",
      "2029 [2.         1.         8.         0.         8.33333333]\n2029 [2 1 8 0 8]\n"
     ],
     "output_type": "stream"
    }
   ],
   "source": [
    "def get_list_authors(authors):\n",
    "    string_auth = authors[1:len(authors) - 1]\n",
    "    string_auth = string_auth.strip()\n",
    "    string_auth = string_auth.replace('\\'', '')\n",
    "    list_auth = string_auth.split(\", \")\n",
    "    return list_auth\n",
    "\n",
    "authors = df['author'].dropna().unique()\n",
    "G=networkx.Graph()\n",
    "\n",
    "all_authors=[]\n",
    "count=0\n",
    "for author in authors:\n",
    "    all_authors.append(get_list_authors(author))\n",
    "del all_authors[3]\n",
    "\n",
    "authors_list = []\n",
    "list_auth_dict = []\n",
    "for author in all_authors:\n",
    "    num_auth_dict = {}\n",
    "    for each_author in author:\n",
    "        each_author = each_author.strip()\n",
    "        if each_author not in authors_list:\n",
    "            authors_list.append(each_author)\n",
    "            count+=1\n",
    "            num_auth_dict[count] = each_author\n",
    "        else:\n",
    "            num_auth_dict[authors_list.index(each_author)+1] = each_author\n",
    "    list_auth_dict.append(num_auth_dict)\n",
    " \n",
    "for authors1 in list_auth_dict:\n",
    "    keys_array = []\n",
    "    for key in authors1.keys():\n",
    "        keys_array.append(key)\n",
    "        G.add_node(key)\n",
    "    #print(keys_array)\n",
    "\n",
    "    if len(authors1) > 1:\n",
    "        pairs = list(itertools.combinations(keys_array, 2))\n",
    "        #print(pairs)\n",
    "        for pair in pairs:\n",
    "            G.add_edge(pair[0],pair[1])\n",
    "\n",
    "_, degrees = zip(*networkx.degree(G))\n",
    "degrees = list(degrees)\n",
    "\n",
    "print(len(authors_list), authors_list[:5])\n",
    "print(len(degrees), degrees[:5])\n",
    "\n",
    "authors = df['author'].values\n",
    "\n",
    "fea_avg_degrees = np.zeros(authors.shape, dtype=float)\n",
    "fea_med_degrees = np.zeros(authors.shape, dtype=int)\n",
    "\n",
    "for idx, author in enumerate(authors):\n",
    "    if author == \"[]\" or np.array(author, dtype=str) == 'nan':\n",
    "        fea_avg_degrees[idx] = 0\n",
    "        fea_med_degrees[idx] = 0\n",
    "    else:\n",
    "        # print(idx, author)\n",
    "        author_names = get_list_authors(author)\n",
    "        degree_list = []\n",
    "        for auth_name in author_names:\n",
    "            degree_list.append(degrees[authors_list.index(auth_name)])\n",
    "        fea_avg_degrees[idx] = np.mean(degree_list)\n",
    "        fea_med_degrees[idx] = np.median(degree_list)\n",
    "\n",
    "print(len(fea_avg_degrees), fea_avg_degrees[:5])\n",
    "print(len(fea_med_degrees), fea_med_degrees[:5])"
   ],
   "metadata": {
    "collapsed": false,
    "pycharm": {
     "name": "#%%\n",
     "is_executing": false
    }
   }
  },
  {
   "cell_type": "markdown",
   "source": [
    "Number of Words in Title / Bodytext / Title + Bodytext"
   ],
   "metadata": {
    "collapsed": false
   }
  },
  {
   "cell_type": "code",
   "execution_count": 16,
   "outputs": [
    {
     "name": "stdout",
     "text": [
      "[8 9 8 7 8]\n",
      "[1794  868 2485 1299  195]\n[1802  877 2493 1306  203]\n"
     ],
     "output_type": "stream"
    }
   ],
   "source": [
    "titles = np.array(df['title'].values, dtype=str)\n",
    "fea_title_word_nums = np.zeros(titles.shape, dtype=int)\n",
    "for idx, title in enumerate(titles):\n",
    "    fea_title_word_nums[idx] = len(title.split(' '))\n",
    "print(fea_title_word_nums[:5])\n",
    "\n",
    "bodies = np.array(df['body_text'].values, dtype=str)\n",
    "fea_body_word_nums = np.zeros(bodies.shape, dtype=int)\n",
    "for idx, body in enumerate(bodies):\n",
    "    fea_body_word_nums[idx] = len(body.split(' '))\n",
    "print(fea_body_word_nums[:5])\n",
    "\n",
    "fea_word_nums = fea_title_word_nums + fea_body_word_nums\n",
    "print(fea_word_nums[:5])"
   ],
   "metadata": {
    "collapsed": false,
    "pycharm": {
     "name": "#%%\n",
     "is_executing": false
    }
   }
  },
  {
   "cell_type": "markdown",
   "source": [
    "Number of Images\n",
    "    "
   ],
   "metadata": {
    "collapsed": false
   }
  },
  {
   "cell_type": "code",
   "execution_count": 17,
   "outputs": [
    {
     "name": "stdout",
     "text": [
      "['https://static01.nyt.com/images/2020/03/12/science/26VIRUS-EXPLAINER-update1/26VIRUS-EXPLAINER-update1-facebookJumbo.jpg'\n 'https://media.npr.org/include/images/facebook-default-wide.jpg?s=1400'\n 'https://cdn.vox-cdn.com/thumbor/a9_Oz7cvSBKyalibjq3yKtypMqc=/0x153:2130x1268/fit-in/1200x630/cdn.vox-cdn.com/uploads/chorus_asset/file/19581722/VRG_ILLO_1777_AK_vaccine.0.jpg'\n 'https://www.worldhealth.net/media/original_images/virus_breath.jpg'\n 'https://cdn.vox-cdn.com/thumbor/t2gt1SmEni4McrANA0ptgYRMJVg=/0x146:2040x1214/fit-in/1200x630/cdn.vox-cdn.com/uploads/chorus_asset/file/19933222/acastro_200428_1777_coronavirus_0001.0.jpg']\n[1 1 1 1 1]\n"
     ],
     "output_type": "stream"
    }
   ],
   "source": [
    "images = np.array(df['image'].values, dtype=str)\n",
    "fea_image_nums = np.zeros(images.shape, dtype=int)\n",
    "for idx, image in enumerate(images):\n",
    "    if image == 'nan':\n",
    "        fea_image_nums[idx] = 0\n",
    "    else:\n",
    "        fea_image_nums[idx] = 1\n",
    "\n",
    "print(images[:5])\n",
    "print(fea_image_nums[:5])    \n"
   ],
   "metadata": {
    "collapsed": false,
    "pycharm": {
     "name": "#%%\n",
     "is_executing": false
    }
   }
  },
  {
   "cell_type": "markdown",
   "source": [
    "Save Feature Matrix to File"
   ],
   "metadata": {
    "collapsed": false
   }
  },
  {
   "cell_type": "code",
   "execution_count": 19,
   "outputs": [
    {
     "name": "stdout",
     "text": [
      "[0 1]\n0    0\n1    0\n2    0\n3    1\n4    0\nName: is_unreliable, dtype: int64\n"
     ],
     "output_type": "stream"
    }
   ],
   "source": [
    "########## 1. construct the overall feature matrix ##########\n",
    "content_features = DataFrame({\n",
    "    'publish_date': fea_time_stamps,\n",
    "    'author_num': fea_author_nums,\n",
    "    'degree_avg': fea_avg_degrees,\n",
    "    'degree_med': fea_med_degrees,\n",
    "    'title_word_num': fea_title_word_nums,\n",
    "    'body_word_num': fea_body_word_nums,\n",
    "    'word_num': fea_word_nums,\n",
    "    'image_num': fea_image_nums,\n",
    "    })\n",
    "\n",
    "########## 2. construct ground-truth label matrix ##########\n",
    "is_unreliable = -1 * df['reliability'].values + 1\n",
    "print(np.unique(is_unreliable))\n",
    "\n",
    "labels = DataFrame({ 'is_unreliable': is_unreliable })\n",
    "print(labels['is_unreliable'][:5])\n",
    "\n",
    "# Save features and labels to csv files\n",
    "content_features.to_csv('../feature/content-features.csv', index=False)\n",
    "labels.to_csv('../feature/labels.csv', index=False)\n",
    "\n",
    "\n"
   ],
   "metadata": {
    "collapsed": false,
    "pycharm": {
     "name": "#%%\n",
     "is_executing": false
    }
   }
  }
 ],
 "metadata": {
  "kernelspec": {
   "display_name": "Python 3",
   "language": "python",
   "name": "python3"
  },
  "language_info": {
   "codemirror_mode": {
    "name": "ipython",
    "version": 2
   },
   "file_extension": ".py",
   "mimetype": "text/x-python",
   "name": "python",
   "nbconvert_exporter": "python",
   "pygments_lexer": "ipython2",
   "version": "2.7.6"
  },
  "pycharm": {
   "stem_cell": {
    "cell_type": "raw",
    "source": [],
    "metadata": {
     "collapsed": false
    }
   }
  }
 },
 "nbformat": 4,
 "nbformat_minor": 0
}