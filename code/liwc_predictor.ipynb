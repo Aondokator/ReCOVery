{
 "cells": [
  {
   "cell_type": "markdown",
   "source": [
    "# Predicting News Reliablity Using LIWC\n"
   ],
   "metadata": {
    "collapsed": false
   }
  },
  {
   "cell_type": "code",
   "execution_count": 82,
   "outputs": [],
   "source": [
    "import pandas as pd\n",
    "import numpy as np\n",
    "from sklearn import preprocessing\n",
    "from sklearn.model_selection import train_test_split, cross_val_score\n",
    "from sklearn import svm, naive_bayes, tree, ensemble, neighbors, linear_model\n",
    "from xgboost import XGBClassifier\n",
    "from sklearn.metrics import classification_report, confusion_matrix, plot_confusion_matrix, f1_score, precision_score, recall_score\n",
    "\n",
    "CSV_FILE_DIR_HEAD = \"/Volumes/MySSD/PycharmProjects/MIS-COV19/\"\n",
    "CONTENT_FEATURE_PATH1 = CSV_FILE_DIR_HEAD+\"feature/liwc_title.csv\"\n",
    "CONTENT_FEATURE_PATH2 = CSV_FILE_DIR_HEAD+\"feature/liwc_body.csv\"\n",
    "LABEL_PATH = CSV_FILE_DIR_HEAD+\"feature/labels.csv\"\n",
    "CLASSES = ['is_reliable', 'is_unreliable']\n",
    "RSEED = 46"
   ],
   "metadata": {
    "collapsed": false,
    "pycharm": {
     "name": "#%%\n",
     "is_executing": false
    }
   }
  },
  {
   "cell_type": "markdown",
   "source": [
    "Data Preprocessing"
   ],
   "metadata": {
    "collapsed": false
   }
  },
  {
   "cell_type": "code",
   "execution_count": 83,
   "outputs": [],
   "source": [
    "def date_prep(fea_path1, fea_path2, lab_path):\n",
    "    # Load data\n",
    "    fea_data1 = pd.read_csv(fea_path1)  \n",
    "    fea_data2 = pd.read_csv(fea_path2)  \n",
    "    lab_data = pd.read_csv(lab_path) \n",
    "    \n",
    "    features = np.array(fea_data1)  \n",
    "    features += np.array(fea_data2)\n",
    "    labels = np.array(lab_data)\n",
    "    \n",
    "    # Feature standardization\n",
    "    fea_scale = preprocessing.scale(features)\n",
    "    \n",
    "    # Divide the overall dataset as training data and testing data (0.8:0.2)\n",
    "    x_train, x_test, y_train, y_test = train_test_split(fea_scale, labels, test_size=0.2, random_state=RSEED)\n",
    "\n",
    "    return x_train, x_test, y_train, y_test\n"
   ],
   "metadata": {
    "collapsed": false,
    "pycharm": {
     "name": "#%%\n",
     "is_executing": false
    }
   }
  },
  {
   "cell_type": "markdown",
   "source": [
    "Logistic Regression\n",
    "    "
   ],
   "metadata": {
    "collapsed": false
   }
  },
  {
   "cell_type": "code",
   "execution_count": 84,
   "outputs": [
    {
     "name": "stdout",
     "text": [
      "=== Logistic Regression ===\n               precision    recall  f1-score   support\n\n  is_reliable       0.77      0.86      0.82       269\nis_unreliable       0.65      0.50      0.57       137\n\n     accuracy                           0.74       406\n    macro avg       0.71      0.68      0.69       406\n weighted avg       0.73      0.74      0.73       406\n\n"
     ],
     "output_type": "stream"
    },
    {
     "name": "stderr",
     "text": [
      "/Library/Frameworks/Python.framework/Versions/3.8/lib/python3.8/site-packages/sklearn/utils/validation.py:760: DataConversionWarning: A column-vector y was passed when a 1d array was expected. Please change the shape of y to (n_samples, ), for example using ravel().\n  y = column_or_1d(y, warn=True)\n"
     ],
     "output_type": "stream"
    }
   ],
   "source": [
    "x_train, x_test, y_train, y_test = date_prep(CONTENT_FEATURE_PATH1, CONTENT_FEATURE_PATH2, LABEL_PATH)\n",
    "\n",
    "model = linear_model.LogisticRegression()\n",
    "model.fit(x_train, y_train)\n",
    "\n",
    "y_pred = model.predict(x_test)\n",
    "\n",
    "print('=== Logistic Regression ===')\n",
    "print(classification_report(y_test, y_pred, target_names=CLASSES))"
   ],
   "metadata": {
    "collapsed": false,
    "pycharm": {
     "name": "#%%\n",
     "is_executing": false
    }
   }
  },
  {
   "cell_type": "markdown",
   "source": [
    "Naive Bayes\n",
    "    "
   ],
   "metadata": {
    "collapsed": false
   }
  },
  {
   "cell_type": "code",
   "execution_count": 85,
   "outputs": [
    {
     "name": "stdout",
     "text": [
      "=== Naive Bayes ===\n",
      "               precision    recall  f1-score   support\n\n  is_reliable       0.79      0.75      0.77       269\nis_unreliable       0.55      0.61      0.58       137\n\n     accuracy                           0.70       406\n    macro avg       0.67      0.68      0.67       406\n weighted avg       0.71      0.70      0.71       406\n\n"
     ],
     "output_type": "stream"
    },
    {
     "name": "stderr",
     "text": [
      "/Library/Frameworks/Python.framework/Versions/3.8/lib/python3.8/site-packages/sklearn/utils/validation.py:760: DataConversionWarning: A column-vector y was passed when a 1d array was expected. Please change the shape of y to (n_samples, ), for example using ravel().\n  y = column_or_1d(y, warn=True)\n"
     ],
     "output_type": "stream"
    }
   ],
   "source": [
    "x_train, x_test, y_train, y_test = date_prep(CONTENT_FEATURE_PATH1, CONTENT_FEATURE_PATH2, LABEL_PATH)\n",
    "\n",
    "model = naive_bayes.BernoulliNB() \n",
    "model.fit(x_train, y_train)\n",
    "\n",
    "y_pred = model.predict(x_test)\n",
    "\n",
    "print('=== Naive Bayes ===')\n",
    "print(classification_report(y_test, y_pred, target_names=CLASSES))"
   ],
   "metadata": {
    "collapsed": false,
    "pycharm": {
     "name": "#%%\n",
     "is_executing": false
    }
   }
  },
  {
   "cell_type": "markdown",
   "source": [
    "K-Nearest Neighbors\n",
    "    "
   ],
   "metadata": {
    "collapsed": false
   }
  },
  {
   "cell_type": "code",
   "execution_count": 86,
   "outputs": [
    {
     "name": "stderr",
     "text": [
      "<ipython-input-86-d85bbca96a80>:4: DataConversionWarning: A column-vector y was passed when a 1d array was expected. Please change the shape of y to (n_samples, ), for example using ravel().\n  model.fit(x_train, y_train)\n"
     ],
     "output_type": "stream"
    },
    {
     "name": "stdout",
     "text": [
      "=== KNN ===\n               precision    recall  f1-score   support\n\n  is_reliable       0.69      0.82      0.75       269\nis_unreliable       0.44      0.28      0.34       137\n\n     accuracy                           0.64       406\n    macro avg       0.56      0.55      0.54       406\n weighted avg       0.60      0.64      0.61       406\n\n"
     ],
     "output_type": "stream"
    }
   ],
   "source": [
    "x_train, x_test, y_train, y_test = date_prep(CONTENT_FEATURE_PATH1, CONTENT_FEATURE_PATH2, LABEL_PATH)\n",
    "\n",
    "model = neighbors.KNeighborsClassifier()\n",
    "model.fit(x_train, y_train)\n",
    "\n",
    "y_pred = model.predict(x_test)\n",
    "\n",
    "print('=== KNN ===')\n",
    "print(classification_report(y_test, y_pred, target_names=CLASSES))\n"
   ],
   "metadata": {
    "collapsed": false,
    "pycharm": {
     "name": "#%%\n",
     "is_executing": false
    }
   }
  },
  {
   "cell_type": "markdown",
   "source": [
    "Random Forest"
   ],
   "metadata": {
    "collapsed": false
   }
  },
  {
   "cell_type": "code",
   "execution_count": 87,
   "outputs": [
    {
     "name": "stderr",
     "text": [
      "<ipython-input-87-e12ee746d674>:4: DataConversionWarning: A column-vector y was passed when a 1d array was expected. Please change the shape of y to (n_samples,), for example using ravel().\n  model.fit(x_train, y_train)\n"
     ],
     "output_type": "stream"
    },
    {
     "name": "stdout",
     "text": [
      "=== Random Forest ===\n               precision    recall  f1-score   support\n\n  is_reliable       0.78      0.97      0.87       269\nis_unreliable       0.88      0.47      0.62       137\n\n     accuracy                           0.80       406\n    macro avg       0.83      0.72      0.74       406\n weighted avg       0.82      0.80      0.78       406\n\n"
     ],
     "output_type": "stream"
    }
   ],
   "source": [
    "x_train, x_test, y_train, y_test = date_prep(CONTENT_FEATURE_PATH1, CONTENT_FEATURE_PATH2, LABEL_PATH)\n",
    "\n",
    "model = ensemble.RandomForestClassifier()\n",
    "model.fit(x_train, y_train)\n",
    "\n",
    "y_pred = model.predict(x_test)\n",
    "\n",
    "print('=== Random Forest ===')\n",
    "print(classification_report(y_test, y_pred, target_names=CLASSES))\n"
   ],
   "metadata": {
    "collapsed": false,
    "pycharm": {
     "name": "#%%\n",
     "is_executing": false
    }
   }
  },
  {
   "cell_type": "markdown",
   "source": [
    "Decision Tree"
   ],
   "metadata": {
    "collapsed": false
   }
  },
  {
   "cell_type": "code",
   "execution_count": 88,
   "outputs": [
    {
     "name": "stdout",
     "text": [
      "=== Decision Tree ===\n               precision    recall  f1-score   support\n\n  is_reliable       0.76      0.76      0.76       269\nis_unreliable       0.53      0.53      0.53       137\n\n     accuracy                           0.68       406\n    macro avg       0.64      0.64      0.64       406\n weighted avg       0.68      0.68      0.68       406\n\n"
     ],
     "output_type": "stream"
    }
   ],
   "source": [
    "x_train, x_test, y_train, y_test = date_prep(CONTENT_FEATURE_PATH1, CONTENT_FEATURE_PATH2, LABEL_PATH)\n",
    "\n",
    "model = tree.DecisionTreeClassifier()\n",
    "model.fit(x_train, y_train)\n",
    "\n",
    "y_pred = model.predict(x_test)\n",
    "\n",
    "print('=== Decision Tree ===')\n",
    "print(classification_report(y_test, y_pred, target_names=CLASSES))\n"
   ],
   "metadata": {
    "collapsed": false,
    "pycharm": {
     "name": "#%%\n",
     "is_executing": false
    }
   }
  },
  {
   "cell_type": "markdown",
   "source": [
    "SVM"
   ],
   "metadata": {
    "collapsed": false
   }
  },
  {
   "cell_type": "code",
   "execution_count": 89,
   "outputs": [
    {
     "name": "stderr",
     "text": [
      "/Library/Frameworks/Python.framework/Versions/3.8/lib/python3.8/site-packages/sklearn/utils/validation.py:760: DataConversionWarning: A column-vector y was passed when a 1d array was expected. Please change the shape of y to (n_samples, ), for example using ravel().\n  y = column_or_1d(y, warn=True)\n"
     ],
     "output_type": "stream"
    },
    {
     "name": "stdout",
     "text": [
      "=== SVM ===\n               precision    recall  f1-score   support\n\n  is_reliable       0.75      0.94      0.84       269\nis_unreliable       0.78      0.38      0.51       137\n\n     accuracy                           0.75       406\n    macro avg       0.76      0.66      0.67       406\n weighted avg       0.76      0.75      0.73       406\n\n"
     ],
     "output_type": "stream"
    }
   ],
   "source": [
    "x_train, x_test, y_train, y_test = date_prep(CONTENT_FEATURE_PATH1, CONTENT_FEATURE_PATH2, LABEL_PATH)\n",
    "\n",
    "model = svm.SVC()\n",
    "model.fit(x_train, y_train)\n",
    "\n",
    "y_pred = model.predict(x_test)\n",
    "\n",
    "print('=== SVM ===')\n",
    "print(classification_report(y_test, y_pred, target_names=CLASSES))"
   ],
   "metadata": {
    "collapsed": false,
    "pycharm": {
     "name": "#%%\n",
     "is_executing": false
    }
   }
  },
  {
   "cell_type": "markdown",
   "source": [
    "XGBoost"
   ],
   "metadata": {
    "collapsed": false
   }
  },
  {
   "cell_type": "code",
   "execution_count": 90,
   "outputs": [
    {
     "name": "stderr",
     "text": [
      "/Library/Frameworks/Python.framework/Versions/3.8/lib/python3.8/site-packages/sklearn/preprocessing/_label.py:235: DataConversionWarning: A column-vector y was passed when a 1d array was expected. Please change the shape of y to (n_samples, ), for example using ravel().\n  y = column_or_1d(y, warn=True)\n/Library/Frameworks/Python.framework/Versions/3.8/lib/python3.8/site-packages/sklearn/preprocessing/_label.py:268: DataConversionWarning: A column-vector y was passed when a 1d array was expected. Please change the shape of y to (n_samples, ), for example using ravel().\n  y = column_or_1d(y, warn=True)\n"
     ],
     "output_type": "stream"
    },
    {
     "name": "stdout",
     "text": [
      "=== XGBoost ===\n               precision    recall  f1-score   support\n\n  is_reliable       0.83      0.95      0.89       269\nis_unreliable       0.86      0.62      0.72       137\n\n     accuracy                           0.84       406\n    macro avg       0.84      0.78      0.80       406\n weighted avg       0.84      0.84      0.83       406\n\n"
     ],
     "output_type": "stream"
    }
   ],
   "source": [
    "x_train, x_test, y_train, y_test = date_prep(CONTENT_FEATURE_PATH1, CONTENT_FEATURE_PATH2, LABEL_PATH)\n",
    "\n",
    "model = XGBClassifier()\n",
    "model.fit(x_train, y_train)\n",
    "\n",
    "y_pred = model.predict(x_test)\n",
    "\n",
    "print('=== XGBoost ===')\n",
    "print(classification_report(y_test, y_pred, target_names=CLASSES))"
   ],
   "metadata": {
    "collapsed": false,
    "pycharm": {
     "name": "#%%\n",
     "is_executing": false
    }
   }
  }
 ],
 "metadata": {
  "kernelspec": {
   "display_name": "Python 3",
   "language": "python",
   "name": "python3"
  },
  "language_info": {
   "codemirror_mode": {
    "name": "ipython",
    "version": 2
   },
   "file_extension": ".py",
   "mimetype": "text/x-python",
   "name": "python",
   "nbconvert_exporter": "python",
   "pygments_lexer": "ipython2",
   "version": "2.7.6"
  },
  "pycharm": {
   "stem_cell": {
    "cell_type": "raw",
    "source": [],
    "metadata": {
     "collapsed": false
    }
   }
  }
 },
 "nbformat": 4,
 "nbformat_minor": 0
}