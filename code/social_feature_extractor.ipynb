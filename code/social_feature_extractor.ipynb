{
 "cells": [
  {
   "cell_type": "code",
   "execution_count": 1,
   "outputs": [],
   "source": [
    "import pandas as pd\n",
    "from pandas import DataFrame\n",
    "import numpy as np\n",
    "import networkx\n",
    "import itertools\n",
    "import time"
   ],
   "metadata": {
    "collapsed": false,
    "pycharm": {
     "name": "#%%\n",
     "is_executing": false
    }
   }
  },
  {
   "cell_type": "markdown",
   "source": [
    "Load Data"
   ],
   "metadata": {
    "collapsed": false
   }
  },
  {
   "cell_type": "code",
   "execution_count": 2,
   "outputs": [
    {
     "name": "stdout",
     "text": [
      "[0 1 2 3 4]\n[0 0 0 1 0]\n"
     ],
     "output_type": "stream"
    }
   ],
   "source": [
    "CSV_FILE_PATH = \"../dataset/news_tweets.csv\"\n",
    "df_social = pd.read_csv(CSV_FILE_PATH) \n",
    "df_social['followers_count'] = df_social['followers_count'].fillna(0)\n",
    "df_social['friends_count'] = df_social['friends_count'].fillna(0)\n",
    "\n",
    "CSV_FILE_PATH = \"../dataset/recovery-news-data.csv\"\n",
    "df_content = pd.read_csv(CSV_FILE_PATH) \n",
    "\n",
    "nids = np.array(df_content['news_id'].values, dtype=int)\n",
    "labels = np.array(-1 * df_content['reliability'].values + 1, dtype=int)\n",
    "\n",
    "print(nids[:5])\n",
    "print(labels[:5])"
   ],
   "metadata": {
    "collapsed": false,
    "pycharm": {
     "name": "#%%\n",
     "is_executing": false
    }
   }
  },
  {
   "cell_type": "markdown",
   "source": [
    "Number of Tweets"
   ],
   "metadata": {
    "collapsed": false,
    "pycharm": {
     "name": "#%% md\n"
    }
   }
  },
  {
   "cell_type": "code",
   "execution_count": 3,
   "outputs": [
    {
     "name": "stdout",
     "text": [
      "[1260    8  338    0   38]\n"
     ],
     "output_type": "stream"
    }
   ],
   "source": [
    "tweet_nums = np.zeros(nids.shape, dtype=int)\n",
    "for idx,nid in enumerate(nids):\n",
    "    ids = df_social[df_social['news_id'] == nid]['tweet_id']\n",
    "    tweet_nums[idx] = ids.unique().shape[0]\n",
    "print(tweet_nums[:5])"
   ],
   "metadata": {
    "collapsed": false,
    "pycharm": {
     "name": "#%%\n",
     "is_executing": false
    }
   }
  },
  {
   "cell_type": "markdown",
   "source": [
    "Number of Spreaders"
   ],
   "metadata": {
    "collapsed": false
   }
  },
  {
   "cell_type": "code",
   "execution_count": 4,
   "outputs": [
    {
     "name": "stdout",
     "text": [
      "[1088    8  278    0   37]\n"
     ],
     "output_type": "stream"
    }
   ],
   "source": [
    "spreader_nums = np.zeros(nids.shape, dtype=int)\n",
    "for idx,nid in enumerate(nids):\n",
    "    ids = df_social[df_social['news_id'] == nid]['user_id']\n",
    "    spreader_nums[idx] = ids.unique().shape[0]\n",
    "print(spreader_nums[:5])"
   ],
   "metadata": {
    "collapsed": false,
    "pycharm": {
     "name": "#%%\n",
     "is_executing": false
    }
   }
  },
  {
   "cell_type": "markdown",
   "source": [
    "Mean / Median Number of Followers"
   ],
   "metadata": {
    "collapsed": false
   }
  },
  {
   "cell_type": "code",
   "execution_count": 7,
   "outputs": [
    {
     "name": "stdout",
     "text": [
      "[78430  2498 20585     0  3691]\n",
      "[ 817 1708  748    0  482]\n"
     ],
     "output_type": "stream"
    }
   ],
   "source": [
    "follower_nums_mean = np.zeros(nids.shape, dtype=int)\n",
    "for idx,nid in enumerate(nids):\n",
    "    counts = df_social[df_social['news_id'] == nid]['followers_count']\n",
    "    if counts.shape[0] > 0:\n",
    "        follower_nums_mean[idx] = np.mean(counts)\n",
    "print(follower_nums_mean[:5])\n",
    "\n",
    "follower_nums_median = np.zeros(nids.shape, dtype=int)\n",
    "for idx,nid in enumerate(nids):\n",
    "    counts = df_social[df_social['news_id'] == nid]['followers_count']\n",
    "    if counts.shape[0] > 0:\n",
    "        follower_nums_median[idx] = np.median(counts)\n",
    "print(follower_nums_median[:5])"
   ],
   "metadata": {
    "collapsed": false,
    "pycharm": {
     "name": "#%%\n",
     "is_executing": false
    }
   }
  },
  {
   "cell_type": "markdown",
   "source": [
    "Mean / Median Number of Friends"
   ],
   "metadata": {
    "collapsed": false
   }
  },
  {
   "cell_type": "code",
   "execution_count": 8,
   "outputs": [
    {
     "name": "stdout",
     "text": [
      "[2793 1746 3309    0 1924]\n",
      "[ 883 1283  694    0  407]\n"
     ],
     "output_type": "stream"
    }
   ],
   "source": [
    "friend_nums_mean = np.zeros(nids.shape, dtype=int)\n",
    "for idx,nid in enumerate(nids):\n",
    "    counts = df_social[df_social['news_id'] == nid]['friends_count']\n",
    "    if counts.shape[0] > 0:\n",
    "        friend_nums_mean[idx] = np.mean(counts)\n",
    "print(friend_nums_mean[:5])\n",
    "\n",
    "friend_nums_median = np.zeros(nids.shape, dtype=int)\n",
    "for idx,nid in enumerate(nids):\n",
    "    counts = df_social[df_social['news_id'] == nid]['friends_count']\n",
    "    if counts.shape[0] > 0:\n",
    "        friend_nums_median[idx] = np.median(counts)\n",
    "print(friend_nums_median[:5])\n"
   ],
   "metadata": {
    "collapsed": false,
    "pycharm": {
     "name": "#%%\n",
     "is_executing": false
    }
   }
  },
  {
   "cell_type": "markdown",
   "source": [
    "Save Feature Matrix to File"
   ],
   "metadata": {
    "collapsed": false
   }
  },
  {
   "cell_type": "code",
   "execution_count": 9,
   "outputs": [],
   "source": [
    "social_features = DataFrame({\n",
    "    'tweet_num': tweet_nums,\n",
    "    'spreader_num': spreader_nums,\n",
    "    'in_degree_avg': follower_nums_mean,\n",
    "    'in_degree_med': follower_nums_median,\n",
    "    'degree_avg': friend_nums_mean,\n",
    "    'degree_med': friend_nums_median\n",
    "    })\n",
    "\n",
    "# Save features and labels to csv files\n",
    "social_features.to_csv('../feature/social-features.csv', index=False)"
   ],
   "metadata": {
    "collapsed": false,
    "pycharm": {
     "name": "#%%\n",
     "is_executing": false
    }
   }
  }
 ],
 "metadata": {
  "kernelspec": {
   "display_name": "Python 3",
   "language": "python",
   "name": "python3"
  },
  "language_info": {
   "codemirror_mode": {
    "name": "ipython",
    "version": 2
   },
   "file_extension": ".py",
   "mimetype": "text/x-python",
   "name": "python",
   "nbconvert_exporter": "python",
   "pygments_lexer": "ipython2",
   "version": "2.7.6"
  },
  "pycharm": {
   "stem_cell": {
    "cell_type": "raw",
    "source": [],
    "metadata": {
     "collapsed": false
    }
   }
  }
 },
 "nbformat": 4,
 "nbformat_minor": 0
}